{
 "cells": [
  {
   "cell_type": "code",
   "execution_count": 2,
   "metadata": {},
   "outputs": [],
   "source": [
    "# import dependencies\n",
    "import pandas as pd\n",
    "import numpy as np\n",
    "import matplotlib.pyplot as plt\n"
   ]
  },
  {
   "cell_type": "code",
   "execution_count": 3,
   "metadata": {},
   "outputs": [
    {
     "ename": "FileNotFoundError",
     "evalue": "[Errno 2] No such file or directory: 'data/redfin/redfin_77002.csv'",
     "output_type": "error",
     "traceback": [
      "\u001b[1;31m---------------------------------------------------------------------------\u001b[0m",
      "\u001b[1;31mFileNotFoundError\u001b[0m                         Traceback (most recent call last)",
      "\u001b[1;32m<ipython-input-3-e7602d13631b>\u001b[0m in \u001b[0;36m<module>\u001b[1;34m\u001b[0m\n\u001b[0;32m      1\u001b[0m \u001b[1;31m# Read in redfin csv sample\u001b[0m\u001b[1;33m\u001b[0m\u001b[1;33m\u001b[0m\u001b[1;33m\u001b[0m\u001b[0m\n\u001b[1;32m----> 2\u001b[1;33m \u001b[0mredfin_sample\u001b[0m\u001b[1;33m=\u001b[0m\u001b[0mpd\u001b[0m\u001b[1;33m.\u001b[0m\u001b[0mread_csv\u001b[0m\u001b[1;33m(\u001b[0m\u001b[1;34m\"data/redfin/redfin_77002.csv\"\u001b[0m\u001b[1;33m)\u001b[0m\u001b[1;33m\u001b[0m\u001b[1;33m\u001b[0m\u001b[0m\n\u001b[0m\u001b[0;32m      3\u001b[0m \u001b[0mredfin_sample\u001b[0m\u001b[1;33m\u001b[0m\u001b[1;33m\u001b[0m\u001b[0m\n",
      "\u001b[1;32m~\\anaconda3\\lib\\site-packages\\pandas\\io\\parsers.py\u001b[0m in \u001b[0;36mread_csv\u001b[1;34m(filepath_or_buffer, sep, delimiter, header, names, index_col, usecols, squeeze, prefix, mangle_dupe_cols, dtype, engine, converters, true_values, false_values, skipinitialspace, skiprows, skipfooter, nrows, na_values, keep_default_na, na_filter, verbose, skip_blank_lines, parse_dates, infer_datetime_format, keep_date_col, date_parser, dayfirst, cache_dates, iterator, chunksize, compression, thousands, decimal, lineterminator, quotechar, quoting, doublequote, escapechar, comment, encoding, dialect, error_bad_lines, warn_bad_lines, delim_whitespace, low_memory, memory_map, float_precision)\u001b[0m\n\u001b[0;32m    684\u001b[0m     )\n\u001b[0;32m    685\u001b[0m \u001b[1;33m\u001b[0m\u001b[0m\n\u001b[1;32m--> 686\u001b[1;33m     \u001b[1;32mreturn\u001b[0m \u001b[0m_read\u001b[0m\u001b[1;33m(\u001b[0m\u001b[0mfilepath_or_buffer\u001b[0m\u001b[1;33m,\u001b[0m \u001b[0mkwds\u001b[0m\u001b[1;33m)\u001b[0m\u001b[1;33m\u001b[0m\u001b[1;33m\u001b[0m\u001b[0m\n\u001b[0m\u001b[0;32m    687\u001b[0m \u001b[1;33m\u001b[0m\u001b[0m\n\u001b[0;32m    688\u001b[0m \u001b[1;33m\u001b[0m\u001b[0m\n",
      "\u001b[1;32m~\\anaconda3\\lib\\site-packages\\pandas\\io\\parsers.py\u001b[0m in \u001b[0;36m_read\u001b[1;34m(filepath_or_buffer, kwds)\u001b[0m\n\u001b[0;32m    450\u001b[0m \u001b[1;33m\u001b[0m\u001b[0m\n\u001b[0;32m    451\u001b[0m     \u001b[1;31m# Create the parser.\u001b[0m\u001b[1;33m\u001b[0m\u001b[1;33m\u001b[0m\u001b[1;33m\u001b[0m\u001b[0m\n\u001b[1;32m--> 452\u001b[1;33m     \u001b[0mparser\u001b[0m \u001b[1;33m=\u001b[0m \u001b[0mTextFileReader\u001b[0m\u001b[1;33m(\u001b[0m\u001b[0mfp_or_buf\u001b[0m\u001b[1;33m,\u001b[0m \u001b[1;33m**\u001b[0m\u001b[0mkwds\u001b[0m\u001b[1;33m)\u001b[0m\u001b[1;33m\u001b[0m\u001b[1;33m\u001b[0m\u001b[0m\n\u001b[0m\u001b[0;32m    453\u001b[0m \u001b[1;33m\u001b[0m\u001b[0m\n\u001b[0;32m    454\u001b[0m     \u001b[1;32mif\u001b[0m \u001b[0mchunksize\u001b[0m \u001b[1;32mor\u001b[0m \u001b[0miterator\u001b[0m\u001b[1;33m:\u001b[0m\u001b[1;33m\u001b[0m\u001b[1;33m\u001b[0m\u001b[0m\n",
      "\u001b[1;32m~\\anaconda3\\lib\\site-packages\\pandas\\io\\parsers.py\u001b[0m in \u001b[0;36m__init__\u001b[1;34m(self, f, engine, **kwds)\u001b[0m\n\u001b[0;32m    944\u001b[0m             \u001b[0mself\u001b[0m\u001b[1;33m.\u001b[0m\u001b[0moptions\u001b[0m\u001b[1;33m[\u001b[0m\u001b[1;34m\"has_index_names\"\u001b[0m\u001b[1;33m]\u001b[0m \u001b[1;33m=\u001b[0m \u001b[0mkwds\u001b[0m\u001b[1;33m[\u001b[0m\u001b[1;34m\"has_index_names\"\u001b[0m\u001b[1;33m]\u001b[0m\u001b[1;33m\u001b[0m\u001b[1;33m\u001b[0m\u001b[0m\n\u001b[0;32m    945\u001b[0m \u001b[1;33m\u001b[0m\u001b[0m\n\u001b[1;32m--> 946\u001b[1;33m         \u001b[0mself\u001b[0m\u001b[1;33m.\u001b[0m\u001b[0m_make_engine\u001b[0m\u001b[1;33m(\u001b[0m\u001b[0mself\u001b[0m\u001b[1;33m.\u001b[0m\u001b[0mengine\u001b[0m\u001b[1;33m)\u001b[0m\u001b[1;33m\u001b[0m\u001b[1;33m\u001b[0m\u001b[0m\n\u001b[0m\u001b[0;32m    947\u001b[0m \u001b[1;33m\u001b[0m\u001b[0m\n\u001b[0;32m    948\u001b[0m     \u001b[1;32mdef\u001b[0m \u001b[0mclose\u001b[0m\u001b[1;33m(\u001b[0m\u001b[0mself\u001b[0m\u001b[1;33m)\u001b[0m\u001b[1;33m:\u001b[0m\u001b[1;33m\u001b[0m\u001b[1;33m\u001b[0m\u001b[0m\n",
      "\u001b[1;32m~\\anaconda3\\lib\\site-packages\\pandas\\io\\parsers.py\u001b[0m in \u001b[0;36m_make_engine\u001b[1;34m(self, engine)\u001b[0m\n\u001b[0;32m   1176\u001b[0m     \u001b[1;32mdef\u001b[0m \u001b[0m_make_engine\u001b[0m\u001b[1;33m(\u001b[0m\u001b[0mself\u001b[0m\u001b[1;33m,\u001b[0m \u001b[0mengine\u001b[0m\u001b[1;33m=\u001b[0m\u001b[1;34m\"c\"\u001b[0m\u001b[1;33m)\u001b[0m\u001b[1;33m:\u001b[0m\u001b[1;33m\u001b[0m\u001b[1;33m\u001b[0m\u001b[0m\n\u001b[0;32m   1177\u001b[0m         \u001b[1;32mif\u001b[0m \u001b[0mengine\u001b[0m \u001b[1;33m==\u001b[0m \u001b[1;34m\"c\"\u001b[0m\u001b[1;33m:\u001b[0m\u001b[1;33m\u001b[0m\u001b[1;33m\u001b[0m\u001b[0m\n\u001b[1;32m-> 1178\u001b[1;33m             \u001b[0mself\u001b[0m\u001b[1;33m.\u001b[0m\u001b[0m_engine\u001b[0m \u001b[1;33m=\u001b[0m \u001b[0mCParserWrapper\u001b[0m\u001b[1;33m(\u001b[0m\u001b[0mself\u001b[0m\u001b[1;33m.\u001b[0m\u001b[0mf\u001b[0m\u001b[1;33m,\u001b[0m \u001b[1;33m**\u001b[0m\u001b[0mself\u001b[0m\u001b[1;33m.\u001b[0m\u001b[0moptions\u001b[0m\u001b[1;33m)\u001b[0m\u001b[1;33m\u001b[0m\u001b[1;33m\u001b[0m\u001b[0m\n\u001b[0m\u001b[0;32m   1179\u001b[0m         \u001b[1;32melse\u001b[0m\u001b[1;33m:\u001b[0m\u001b[1;33m\u001b[0m\u001b[1;33m\u001b[0m\u001b[0m\n\u001b[0;32m   1180\u001b[0m             \u001b[1;32mif\u001b[0m \u001b[0mengine\u001b[0m \u001b[1;33m==\u001b[0m \u001b[1;34m\"python\"\u001b[0m\u001b[1;33m:\u001b[0m\u001b[1;33m\u001b[0m\u001b[1;33m\u001b[0m\u001b[0m\n",
      "\u001b[1;32m~\\anaconda3\\lib\\site-packages\\pandas\\io\\parsers.py\u001b[0m in \u001b[0;36m__init__\u001b[1;34m(self, src, **kwds)\u001b[0m\n\u001b[0;32m   2006\u001b[0m         \u001b[0mkwds\u001b[0m\u001b[1;33m[\u001b[0m\u001b[1;34m\"usecols\"\u001b[0m\u001b[1;33m]\u001b[0m \u001b[1;33m=\u001b[0m \u001b[0mself\u001b[0m\u001b[1;33m.\u001b[0m\u001b[0musecols\u001b[0m\u001b[1;33m\u001b[0m\u001b[1;33m\u001b[0m\u001b[0m\n\u001b[0;32m   2007\u001b[0m \u001b[1;33m\u001b[0m\u001b[0m\n\u001b[1;32m-> 2008\u001b[1;33m         \u001b[0mself\u001b[0m\u001b[1;33m.\u001b[0m\u001b[0m_reader\u001b[0m \u001b[1;33m=\u001b[0m \u001b[0mparsers\u001b[0m\u001b[1;33m.\u001b[0m\u001b[0mTextReader\u001b[0m\u001b[1;33m(\u001b[0m\u001b[0msrc\u001b[0m\u001b[1;33m,\u001b[0m \u001b[1;33m**\u001b[0m\u001b[0mkwds\u001b[0m\u001b[1;33m)\u001b[0m\u001b[1;33m\u001b[0m\u001b[1;33m\u001b[0m\u001b[0m\n\u001b[0m\u001b[0;32m   2009\u001b[0m         \u001b[0mself\u001b[0m\u001b[1;33m.\u001b[0m\u001b[0munnamed_cols\u001b[0m \u001b[1;33m=\u001b[0m \u001b[0mself\u001b[0m\u001b[1;33m.\u001b[0m\u001b[0m_reader\u001b[0m\u001b[1;33m.\u001b[0m\u001b[0munnamed_cols\u001b[0m\u001b[1;33m\u001b[0m\u001b[1;33m\u001b[0m\u001b[0m\n\u001b[0;32m   2010\u001b[0m \u001b[1;33m\u001b[0m\u001b[0m\n",
      "\u001b[1;32mpandas\\_libs\\parsers.pyx\u001b[0m in \u001b[0;36mpandas._libs.parsers.TextReader.__cinit__\u001b[1;34m()\u001b[0m\n",
      "\u001b[1;32mpandas\\_libs\\parsers.pyx\u001b[0m in \u001b[0;36mpandas._libs.parsers.TextReader._setup_parser_source\u001b[1;34m()\u001b[0m\n",
      "\u001b[1;31mFileNotFoundError\u001b[0m: [Errno 2] No such file or directory: 'data/redfin/redfin_77002.csv'"
     ]
    }
   ],
   "source": [
    "# Read in redfin csv sample\n",
    "redfin_sample=pd.read_csv(\"data/redfin/redfin_77002.csv\")\n",
    "redfin_sample"
   ]
  },
  {
   "cell_type": "code",
   "execution_count": null,
   "metadata": {},
   "outputs": [],
   "source": [
    "# filter only SOLD data\n",
    "redfin_sold=redfin_sample[redfin_sample['SALE TYPE']==\"PAST SALE\"]\n",
    "redfin_sold.columns"
   ]
  },
  {
   "cell_type": "code",
   "execution_count": null,
   "metadata": {},
   "outputs": [],
   "source": [
    "redfin_sold_group_by_type=redfin_sold.groupby('PROPERTY TYPE')\n",
    "redfin_sold_group_by_type.describe()"
   ]
  },
  {
   "cell_type": "code",
   "execution_count": null,
   "metadata": {},
   "outputs": [],
   "source": []
  },
  {
   "cell_type": "code",
   "execution_count": 8,
   "metadata": {},
   "outputs": [],
   "source": [
    "test=pd.read_html(\"https://web.har.com/zipcode\")"
   ]
  },
  {
   "cell_type": "code",
   "execution_count": 9,
   "metadata": {},
   "outputs": [
    {
     "data": {
      "text/html": [
       "<div>\n",
       "<style scoped>\n",
       "    .dataframe tbody tr th:only-of-type {\n",
       "        vertical-align: middle;\n",
       "    }\n",
       "\n",
       "    .dataframe tbody tr th {\n",
       "        vertical-align: top;\n",
       "    }\n",
       "\n",
       "    .dataframe thead th {\n",
       "        text-align: right;\n",
       "    }\n",
       "</style>\n",
       "<table border=\"1\" class=\"dataframe\">\n",
       "  <thead>\n",
       "    <tr style=\"text-align: right;\">\n",
       "      <th></th>\n",
       "      <th>0</th>\n",
       "    </tr>\n",
       "  </thead>\n",
       "  <tbody>\n",
       "    <tr>\n",
       "      <th>0</th>\n",
       "      <td>Zip Code Profile  The list below consists of z...</td>\n",
       "    </tr>\n",
       "  </tbody>\n",
       "</table>\n",
       "</div>"
      ],
      "text/plain": [
       "                                                   0\n",
       "0  Zip Code Profile  The list below consists of z..."
      ]
     },
     "execution_count": 9,
     "metadata": {},
     "output_type": "execute_result"
    }
   ],
   "source": [
    "test[0]"
   ]
  },
  {
   "cell_type": "code",
   "execution_count": 10,
   "metadata": {},
   "outputs": [
    {
     "data": {
      "text/html": [
       "<div>\n",
       "<style scoped>\n",
       "    .dataframe tbody tr th:only-of-type {\n",
       "        vertical-align: middle;\n",
       "    }\n",
       "\n",
       "    .dataframe tbody tr th {\n",
       "        vertical-align: top;\n",
       "    }\n",
       "\n",
       "    .dataframe thead th {\n",
       "        text-align: right;\n",
       "    }\n",
       "</style>\n",
       "<table border=\"1\" class=\"dataframe\">\n",
       "  <thead>\n",
       "    <tr style=\"text-align: right;\">\n",
       "      <th></th>\n",
       "      <th>0</th>\n",
       "    </tr>\n",
       "  </thead>\n",
       "  <tbody>\n",
       "    <tr>\n",
       "      <th>0</th>\n",
       "      <td>Zip Code Profile</td>\n",
       "    </tr>\n",
       "    <tr>\n",
       "      <th>1</th>\n",
       "      <td>The list below consists of zip codes residing ...</td>\n",
       "    </tr>\n",
       "  </tbody>\n",
       "</table>\n",
       "</div>"
      ],
      "text/plain": [
       "                                                   0\n",
       "0                                   Zip Code Profile\n",
       "1  The list below consists of zip codes residing ..."
      ]
     },
     "execution_count": 10,
     "metadata": {},
     "output_type": "execute_result"
    }
   ],
   "source": [
    "test[1]"
   ]
  },
  {
   "cell_type": "code",
   "execution_count": 11,
   "metadata": {},
   "outputs": [
    {
     "data": {
      "text/html": [
       "<div>\n",
       "<style scoped>\n",
       "    .dataframe tbody tr th:only-of-type {\n",
       "        vertical-align: middle;\n",
       "    }\n",
       "\n",
       "    .dataframe tbody tr th {\n",
       "        vertical-align: top;\n",
       "    }\n",
       "\n",
       "    .dataframe thead th {\n",
       "        text-align: right;\n",
       "    }\n",
       "</style>\n",
       "<table border=\"1\" class=\"dataframe\">\n",
       "  <thead>\n",
       "    <tr style=\"text-align: right;\">\n",
       "      <th></th>\n",
       "      <th>0</th>\n",
       "      <th>1</th>\n",
       "      <th>2</th>\n",
       "      <th>3</th>\n",
       "    </tr>\n",
       "  </thead>\n",
       "  <tbody>\n",
       "    <tr>\n",
       "      <th>0</th>\n",
       "      <td>Zip Code</td>\n",
       "      <td>City  (City Alias Name(s))</td>\n",
       "      <td>County</td>\n",
       "      <td>NaN</td>\n",
       "    </tr>\n",
       "    <tr>\n",
       "      <th>1</th>\n",
       "      <td>77002</td>\n",
       "      <td>Houston - Inner Loop (HOUSTON,CLUTCH CITY,)</td>\n",
       "      <td>HARRIS</td>\n",
       "      <td>77002 Details, Real Estate, Subdivisions and M...</td>\n",
       "    </tr>\n",
       "    <tr>\n",
       "      <th>2</th>\n",
       "      <td>77003</td>\n",
       "      <td>Houston - Inner Loop (HOUSTON,)</td>\n",
       "      <td>HARRIS</td>\n",
       "      <td>77003 Details, Real Estate, Subdivisions and M...</td>\n",
       "    </tr>\n",
       "    <tr>\n",
       "      <th>3</th>\n",
       "      <td>77004</td>\n",
       "      <td>Houston - Inner Loop (HOUSTON,)</td>\n",
       "      <td>HARRIS</td>\n",
       "      <td>77004 Details, Real Estate, Subdivisions and M...</td>\n",
       "    </tr>\n",
       "    <tr>\n",
       "      <th>4</th>\n",
       "      <td>77005</td>\n",
       "      <td>Houston - Inner Loop (HOUSTON,SOUTHSIDE PLACE,...</td>\n",
       "      <td>HARRIS</td>\n",
       "      <td>77005 Details, Real Estate, Subdivisions and M...</td>\n",
       "    </tr>\n",
       "    <tr>\n",
       "      <th>...</th>\n",
       "      <td>...</td>\n",
       "      <td>...</td>\n",
       "      <td>...</td>\n",
       "      <td>...</td>\n",
       "    </tr>\n",
       "    <tr>\n",
       "      <th>215</th>\n",
       "      <td>77591</td>\n",
       "      <td>TEXAS CITY</td>\n",
       "      <td>GALVESTON</td>\n",
       "      <td>77591 Details, Real Estate, Subdivisions and M...</td>\n",
       "    </tr>\n",
       "    <tr>\n",
       "      <th>216</th>\n",
       "      <td>77598</td>\n",
       "      <td>WEBSTER (FONDREN,WEBSTER,)</td>\n",
       "      <td>HARRIS</td>\n",
       "      <td>77598 Details, Real Estate, Subdivisions and M...</td>\n",
       "    </tr>\n",
       "    <tr>\n",
       "      <th>217</th>\n",
       "      <td>77617</td>\n",
       "      <td>GILCHRIST (CAPLEN,GILCHRIST,)</td>\n",
       "      <td>GALVESTON</td>\n",
       "      <td>77617 Details, Real Estate, Subdivisions and M...</td>\n",
       "    </tr>\n",
       "    <tr>\n",
       "      <th>218</th>\n",
       "      <td>77623</td>\n",
       "      <td>HIGH ISLAND</td>\n",
       "      <td>GALVESTON</td>\n",
       "      <td>77623 Details, Real Estate, Subdivisions and M...</td>\n",
       "    </tr>\n",
       "    <tr>\n",
       "      <th>219</th>\n",
       "      <td>77650</td>\n",
       "      <td>PORT BOLIVAR (BOLIVAR,CRYSTAL BEACH,PORT BOLIV...</td>\n",
       "      <td>GALVESTON</td>\n",
       "      <td>77650 Details, Real Estate, Subdivisions and M...</td>\n",
       "    </tr>\n",
       "  </tbody>\n",
       "</table>\n",
       "<p>220 rows × 4 columns</p>\n",
       "</div>"
      ],
      "text/plain": [
       "            0                                                  1          2  \\\n",
       "0    Zip Code                         City  (City Alias Name(s))     County   \n",
       "1       77002        Houston - Inner Loop (HOUSTON,CLUTCH CITY,)     HARRIS   \n",
       "2       77003                    Houston - Inner Loop (HOUSTON,)     HARRIS   \n",
       "3       77004                    Houston - Inner Loop (HOUSTON,)     HARRIS   \n",
       "4       77005  Houston - Inner Loop (HOUSTON,SOUTHSIDE PLACE,...     HARRIS   \n",
       "..        ...                                                ...        ...   \n",
       "215     77591                                         TEXAS CITY  GALVESTON   \n",
       "216     77598                         WEBSTER (FONDREN,WEBSTER,)     HARRIS   \n",
       "217     77617                      GILCHRIST (CAPLEN,GILCHRIST,)  GALVESTON   \n",
       "218     77623                                        HIGH ISLAND  GALVESTON   \n",
       "219     77650  PORT BOLIVAR (BOLIVAR,CRYSTAL BEACH,PORT BOLIV...  GALVESTON   \n",
       "\n",
       "                                                     3  \n",
       "0                                                  NaN  \n",
       "1    77002 Details, Real Estate, Subdivisions and M...  \n",
       "2    77003 Details, Real Estate, Subdivisions and M...  \n",
       "3    77004 Details, Real Estate, Subdivisions and M...  \n",
       "4    77005 Details, Real Estate, Subdivisions and M...  \n",
       "..                                                 ...  \n",
       "215  77591 Details, Real Estate, Subdivisions and M...  \n",
       "216  77598 Details, Real Estate, Subdivisions and M...  \n",
       "217  77617 Details, Real Estate, Subdivisions and M...  \n",
       "218  77623 Details, Real Estate, Subdivisions and M...  \n",
       "219  77650 Details, Real Estate, Subdivisions and M...  \n",
       "\n",
       "[220 rows x 4 columns]"
      ]
     },
     "execution_count": 11,
     "metadata": {},
     "output_type": "execute_result"
    }
   ],
   "source": [
    "test[2]"
   ]
  },
  {
   "cell_type": "code",
   "execution_count": 12,
   "metadata": {},
   "outputs": [],
   "source": [
    "col_names=test[2].loc[0,:]"
   ]
  },
  {
   "cell_type": "code",
   "execution_count": 13,
   "metadata": {},
   "outputs": [
    {
     "data": {
      "text/plain": [
       "Int64Index([0, 1, 2], dtype='int64')"
      ]
     },
     "execution_count": 13,
     "metadata": {},
     "output_type": "execute_result"
    }
   ],
   "source": [
    "zip_data=pd.DataFrame(test[2].loc[1:,:2])#, columns=['Zip Code','City/City Alias Name(s)','County'])\n",
    "zip_data.columns"
   ]
  },
  {
   "cell_type": "code",
   "execution_count": 14,
   "metadata": {},
   "outputs": [
    {
     "data": {
      "text/html": [
       "<div>\n",
       "<style scoped>\n",
       "    .dataframe tbody tr th:only-of-type {\n",
       "        vertical-align: middle;\n",
       "    }\n",
       "\n",
       "    .dataframe tbody tr th {\n",
       "        vertical-align: top;\n",
       "    }\n",
       "\n",
       "    .dataframe thead th {\n",
       "        text-align: right;\n",
       "    }\n",
       "</style>\n",
       "<table border=\"1\" class=\"dataframe\">\n",
       "  <thead>\n",
       "    <tr style=\"text-align: right;\">\n",
       "      <th></th>\n",
       "      <th>Zip Code</th>\n",
       "      <th>City/City Alias Name(s)</th>\n",
       "      <th>County</th>\n",
       "    </tr>\n",
       "  </thead>\n",
       "  <tbody>\n",
       "    <tr>\n",
       "      <th>1</th>\n",
       "      <td>77002</td>\n",
       "      <td>Houston - Inner Loop (HOUSTON,CLUTCH CITY,)</td>\n",
       "      <td>HARRIS</td>\n",
       "    </tr>\n",
       "    <tr>\n",
       "      <th>2</th>\n",
       "      <td>77003</td>\n",
       "      <td>Houston - Inner Loop (HOUSTON,)</td>\n",
       "      <td>HARRIS</td>\n",
       "    </tr>\n",
       "    <tr>\n",
       "      <th>3</th>\n",
       "      <td>77004</td>\n",
       "      <td>Houston - Inner Loop (HOUSTON,)</td>\n",
       "      <td>HARRIS</td>\n",
       "    </tr>\n",
       "    <tr>\n",
       "      <th>4</th>\n",
       "      <td>77005</td>\n",
       "      <td>Houston - Inner Loop (HOUSTON,SOUTHSIDE PLACE,...</td>\n",
       "      <td>HARRIS</td>\n",
       "    </tr>\n",
       "    <tr>\n",
       "      <th>5</th>\n",
       "      <td>77006</td>\n",
       "      <td>Houston - Inner Loop (HOUSTON,)</td>\n",
       "      <td>HARRIS</td>\n",
       "    </tr>\n",
       "    <tr>\n",
       "      <th>...</th>\n",
       "      <td>...</td>\n",
       "      <td>...</td>\n",
       "      <td>...</td>\n",
       "    </tr>\n",
       "    <tr>\n",
       "      <th>215</th>\n",
       "      <td>77591</td>\n",
       "      <td>TEXAS CITY</td>\n",
       "      <td>GALVESTON</td>\n",
       "    </tr>\n",
       "    <tr>\n",
       "      <th>216</th>\n",
       "      <td>77598</td>\n",
       "      <td>WEBSTER (FONDREN,WEBSTER,)</td>\n",
       "      <td>HARRIS</td>\n",
       "    </tr>\n",
       "    <tr>\n",
       "      <th>217</th>\n",
       "      <td>77617</td>\n",
       "      <td>GILCHRIST (CAPLEN,GILCHRIST,)</td>\n",
       "      <td>GALVESTON</td>\n",
       "    </tr>\n",
       "    <tr>\n",
       "      <th>218</th>\n",
       "      <td>77623</td>\n",
       "      <td>HIGH ISLAND</td>\n",
       "      <td>GALVESTON</td>\n",
       "    </tr>\n",
       "    <tr>\n",
       "      <th>219</th>\n",
       "      <td>77650</td>\n",
       "      <td>PORT BOLIVAR (BOLIVAR,CRYSTAL BEACH,PORT BOLIV...</td>\n",
       "      <td>GALVESTON</td>\n",
       "    </tr>\n",
       "  </tbody>\n",
       "</table>\n",
       "<p>219 rows × 3 columns</p>\n",
       "</div>"
      ],
      "text/plain": [
       "    Zip Code                            City/City Alias Name(s)     County\n",
       "1      77002        Houston - Inner Loop (HOUSTON,CLUTCH CITY,)     HARRIS\n",
       "2      77003                    Houston - Inner Loop (HOUSTON,)     HARRIS\n",
       "3      77004                    Houston - Inner Loop (HOUSTON,)     HARRIS\n",
       "4      77005  Houston - Inner Loop (HOUSTON,SOUTHSIDE PLACE,...     HARRIS\n",
       "5      77006                    Houston - Inner Loop (HOUSTON,)     HARRIS\n",
       "..       ...                                                ...        ...\n",
       "215    77591                                         TEXAS CITY  GALVESTON\n",
       "216    77598                         WEBSTER (FONDREN,WEBSTER,)     HARRIS\n",
       "217    77617                      GILCHRIST (CAPLEN,GILCHRIST,)  GALVESTON\n",
       "218    77623                                        HIGH ISLAND  GALVESTON\n",
       "219    77650  PORT BOLIVAR (BOLIVAR,CRYSTAL BEACH,PORT BOLIV...  GALVESTON\n",
       "\n",
       "[219 rows x 3 columns]"
      ]
     },
     "execution_count": 14,
     "metadata": {},
     "output_type": "execute_result"
    }
   ],
   "source": [
    "zip_data.columns=['Zip Code','City/City Alias Name(s)','County']\n",
    "zip_data"
   ]
  },
  {
   "cell_type": "code",
   "execution_count": 26,
   "metadata": {},
   "outputs": [
    {
     "name": "stdout",
     "output_type": "stream",
     "text": [
      "Harris(133, 3)\n",
      "Harris/Houston(96, 3)\n"
     ]
    },
    {
     "data": {
      "text/plain": [
       "'77002'"
      ]
     },
     "execution_count": 26,
     "metadata": {},
     "output_type": "execute_result"
    }
   ],
   "source": [
    "zip_data_harris=zip_data[zip_data['County']==\"HARRIS\"]\n",
    "print(\"Harris\" + str(zip_data_harris.shape))\n",
    "\n",
    "zip_data_houston=zip_data[zip_data['City/City Alias Name(s)'].str.contains(\"ouston\")]\n",
    "print(\"Harris/Houston\" + str(zip_data_houston.shape))\n",
    "zip_data_houston['Zip Code'][1]"
   ]
  },
  {
   "cell_type": "code",
   "execution_count": 19,
   "metadata": {},
   "outputs": [
    {
     "name": "stdout",
     "output_type": "stream",
     "text": [
      "| 77002 | 33123 | \n",
      "| 77003 | 33124 | \n",
      "| 77004 | 33125 | \n",
      "| 77005 | 33126 | \n",
      "| 77006 | 33127 | \n",
      "| 77007 | 33128 | \n",
      "| 77008 | 33129 | \n",
      "| 77009 | 33130 | \n",
      "| 77010 | 33131 | \n",
      "| 77011 | 33132 | \n",
      "| 77012 | 33133 | \n",
      "| 77013 | 33134 | \n",
      "| 77014 | 33135 | \n",
      "| 77015 | 33136 | \n",
      "| 77016 | 33137 | \n",
      "| 77017 | 33138 | \n",
      "| 77018 | 33139 | \n",
      "| 77019 | 33140 | \n",
      "| 77020 | 33141 | \n",
      "| 77021 | 33142 | \n",
      "| 77022 | 33143 | \n",
      "| 77023 | 33144 | \n",
      "| 77024 | 33145 | \n",
      "| 77025 | 33146 | \n",
      "| 77026 | 33147 | \n",
      "| 77027 | 33148 | \n",
      "| 77028 | 33149 | \n",
      "| 77029 | 33150 | \n",
      "| 77030 | 33151 | \n",
      "| 77031 | 33152 | \n",
      "| 77032 | 33153 | \n",
      "| 77033 | 33154 | \n",
      "| 77034 | 33155 | \n",
      "| 77035 | 33156 | \n",
      "| 77036 | 33157 | \n",
      "| 77037 | 33158 | \n",
      "| 77038 | 33159 | \n",
      "| 77039 | 33160 | \n",
      "| 77040 | 33161 | \n",
      "| 77041 | 33162 | \n",
      "| 77042 | 33163 | \n",
      "| 77043 | 33164 | \n",
      "| 77044 | 33165 | \n",
      "| 77045 | 33166 | \n",
      "| 77046 | 33167 | \n",
      "| 77047 | 33168 | \n",
      "| 77048 | 33169 | \n",
      "| 77049 | 33170 | \n"
     ]
    },
    {
     "ename": "KeyboardInterrupt",
     "evalue": "",
     "output_type": "error",
     "traceback": [
      "\u001b[1;31m---------------------------------------------------------------------------\u001b[0m",
      "\u001b[1;31mKeyboardInterrupt\u001b[0m                         Traceback (most recent call last)",
      "\u001b[1;32m<ipython-input-19-75d2aa44febd>\u001b[0m in \u001b[0;36m<module>\u001b[1;34m\u001b[0m\n\u001b[0;32m     19\u001b[0m \u001b[1;33m\u001b[0m\u001b[0m\n\u001b[0;32m     20\u001b[0m         \u001b[0mos\u001b[0m\u001b[1;33m.\u001b[0m\u001b[0msystem\u001b[0m\u001b[1;33m(\u001b[0m\u001b[1;34mf\"mv data/redfin/redfin_2021*.csv data/redfin/redfin_{str(my_zip)}.csv\"\u001b[0m\u001b[1;33m)\u001b[0m\u001b[1;33m\u001b[0m\u001b[1;33m\u001b[0m\u001b[0m\n\u001b[1;32m---> 21\u001b[1;33m         \u001b[0mtime\u001b[0m\u001b[1;33m.\u001b[0m\u001b[0msleep\u001b[0m\u001b[1;33m(\u001b[0m\u001b[1;36m3\u001b[0m\u001b[1;33m)\u001b[0m\u001b[1;33m\u001b[0m\u001b[1;33m\u001b[0m\u001b[0m\n\u001b[0m\u001b[0;32m     22\u001b[0m \u001b[1;33m\u001b[0m\u001b[0m\n\u001b[0;32m     23\u001b[0m         \u001b[0mkeyboard\u001b[0m\u001b[1;33m.\u001b[0m\u001b[0mpress_and_release\u001b[0m\u001b[1;33m(\u001b[0m\u001b[1;34m'ctrl+w'\u001b[0m\u001b[1;33m)\u001b[0m \u001b[1;31m# closes the last tab\u001b[0m\u001b[1;33m\u001b[0m\u001b[1;33m\u001b[0m\u001b[0m\n",
      "\u001b[1;31mKeyboardInterrupt\u001b[0m: "
     ]
    }
   ],
   "source": [
    "import webbrowser as web\n",
    "import time\n",
    "import keyboard\n",
    "import os\n",
    "\n",
    "# i=0\n",
    "# Apparent scaling factor to convert Redfin regionid to postal Zip code\n",
    "regionid_scaling=43879\n",
    "\n",
    "# cycle through all Zip codes in Harris county\n",
    "for my_zip in zip_data_houston['Zip Code']:\n",
    "        regionid=int(my_zip) - int(regionid_scaling)\n",
    "        print(f\"| {str(my_zip)} | {str(regionid)} | \")\n",
    "        web.open(\"https://www.redfin.com/zipcode/\"+my_zip + \"/filter/include=sold-5yr\")\n",
    "        url=f\"https://www.redfin.com/stingray/api/gis-csv?al=1&market=houston&min_stories=1&num_homes=350&ord=redfin-recommended-asc&page_number=1&region_id={str(regionid)}&region_type=2&sold_within_days=1825&status=9&uipt=1,2,3,4,5,6,7,8&v=8\"\n",
    "        web.open(url)\n",
    "        \n",
    "        time.sleep(5)\n",
    "        \n",
    "        os.system(f\"mv data/redfin/redfin_2021*.csv data/redfin/redfin_{str(my_zip)}.csv\")\n",
    "        time.sleep(3)\n",
    "        \n",
    "        keyboard.press_and_release('ctrl+w') # closes the last tab\n",
    "        \n",
    "        regionid+=1\n",
    "#         i+=1\n",
    "#         if i>5:\n",
    "#             break\n",
    "        "
   ]
  },
  {
   "cell_type": "code",
   "execution_count": 55,
   "metadata": {},
   "outputs": [
    {
     "data": {
      "text/plain": [
       "Index(['SALE TYPE', 'SOLD DATE', 'PROPERTY TYPE', 'ADDRESS', 'CITY',\n",
       "       'STATE OR PROVINCE', 'ZIP OR POSTAL CODE', 'PRICE', 'BEDS', 'BATHS',\n",
       "       'LOCATION', 'SQUARE FEET', 'LOT SIZE', 'YEAR BUILT', 'DAYS ON MARKET',\n",
       "       '$/SQUARE FEET', 'HOA/MONTH', 'STATUS', 'NEXT OPEN HOUSE START TIME',\n",
       "       'NEXT OPEN HOUSE END TIME',\n",
       "       'URL (SEE http://www.redfin.com/buy-a-home/comparative-market-analysis FOR INFO ON PRICING)',\n",
       "       'SOURCE', 'MLS#', 'FAVORITE', 'INTERESTED', 'LATITUDE', 'LONGITUDE'],\n",
       "      dtype='object')"
      ]
     },
     "execution_count": 55,
     "metadata": {},
     "output_type": "execute_result"
    }
   ],
   "source": [
    "import pandas as pd\n",
    "import glob\n",
    "\n",
    "path = 'data/redfin/' \n",
    "all_files = glob.glob(path + \"redfin_7*.csv\")\n",
    "\n",
    "redfin_data = []\n",
    "\n",
    "for filename in all_files:\n",
    "    df = pd.read_csv(filename, index_col=None, header=0)\n",
    "    redfin_data.append(df)\n",
    "\n",
    "redfin_data_all = pd.concat(redfin_data, axis=0, ignore_index=True)\n",
    "redfin_data_all.columns"
   ]
  },
  {
   "cell_type": "code",
   "execution_count": 48,
   "metadata": {},
   "outputs": [
    {
     "data": {
      "text/plain": [
       "array(['77019', '77002', '77018', '77002-6916', '77004', '77006', 77003,\n",
       "       77011, 77004, 77002, 77044, 77005, 77025, 77030, 77098, 77006,\n",
       "       77019, 77007, 77008, 77471, 77055, 77009, 77010, 77023, 77012,\n",
       "       77087, 77013, 77014, 77015, 77016, 77028, 77039, 77017, 77061,\n",
       "       77071, 77018, 77022, 77091, 77020, 77021, 77076, 77093, 77038,\n",
       "       77024, 77079, 77406, 77054, 75147, 77026, 77027, 77095, 77078,\n",
       "       77029, 77031, 77459, 77049, 77032, 77396, 77033, 77051, 77034,\n",
       "       77504, 77035, 77096, 77036, 77037, 77073, 77060, 77086, 77309,\n",
       "       77040, 77041], dtype=object)"
      ]
     },
     "execution_count": 48,
     "metadata": {},
     "output_type": "execute_result"
    }
   ],
   "source": [
    "redfin_data_all['ZIP OR POSTAL CODE'].unique()"
   ]
  },
  {
   "cell_type": "code",
   "execution_count": 66,
   "metadata": {},
   "outputs": [
    {
     "data": {
      "text/plain": [
       "<AxesSubplot:xlabel='DAYS ON MARKET', ylabel='YEAR BUILT'>"
      ]
     },
     "execution_count": 66,
     "metadata": {},
     "output_type": "execute_result"
    },
    {
     "data": {
      "image/png": "[encoded data removed]",
      "text/plain": [
       "<Figure size 432x288 with 1 Axes>"
      ]
     },
     "metadata": {
      "needs_background": "light"
     },
     "output_type": "display_data"
    }
   ],
   "source": [
    "redfin_data_all.plot('DAYS ON MARKET','YEAR BUILT', kind='scatter')"
   ]
  },
  {
   "cell_type": "code",
   "execution_count": null,
   "metadata": {},
   "outputs": [],
   "source": []
  }
 ],
 "metadata": {
  "kernelspec": {
   "display_name": "Python [conda env:root] *",
   "language": "python",
   "name": "conda-root-py"
  },
  "language_info": {
   "codemirror_mode": {
    "name": "ipython",
    "version": 3
   },
   "file_extension": ".py",
   "mimetype": "text/x-python",
   "name": "python",
   "nbconvert_exporter": "python",
   "pygments_lexer": "ipython3",
   "version": "3.8.5"
  }
 },
 "nbformat": 4,
 "nbformat_minor": 4
}
