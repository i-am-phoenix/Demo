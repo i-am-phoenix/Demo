{
 "cells": [
  {
   "cell_type": "code",
   "execution_count": 1,
   "metadata": {},
   "outputs": [],
   "source": [
    "import pandas as pd"
   ]
  },
  {
   "cell_type": "code",
   "execution_count": 2,
   "metadata": {},
   "outputs": [
    {
     "data": {
      "text/plain": [
       "[                                                     0  \\\n",
       " 0                           POPULATION (Census Bureau)   \n",
       " 1         County Population «History» «Group Quarters»   \n",
       " 2                                       Estimate 2020:   \n",
       " 3                                       Estimate 2019:   \n",
       " 4                                       Estimate 2018:   \n",
       " ..                                                 ...   \n",
       " 152  County Agricultural Profile (USDA): «Census of...   \n",
       " 153  State & County QuickFacts (Census Bureau): «Ha...   \n",
       " 154  State & County Narrative Profiles (Census Bure...   \n",
       " 155  County History (Handbook of Texas Online): «Ha...   \n",
       " 156  Texas Almanac (Texas State Historical Associat...   \n",
       " \n",
       "                                                      1  \\\n",
       " 0                           POPULATION (Census Bureau)   \n",
       " 1         County Population «History» «Group Quarters»   \n",
       " 2                                              4738253   \n",
       " 3                                              4709243   \n",
       " 4                                              4676913   \n",
       " ..                                                 ...   \n",
       " 152  County Agricultural Profile (USDA): «Census of...   \n",
       " 153  State & County QuickFacts (Census Bureau): «Ha...   \n",
       " 154  State & County Narrative Profiles (Census Bure...   \n",
       " 155  County History (Handbook of Texas Online): «Ha...   \n",
       " 156  Texas Almanac (Texas State Historical Associat...   \n",
       " \n",
       "                                                      2  \n",
       " 0                           POPULATION (Census Bureau)  \n",
       " 1         County Population «History» «Group Quarters»  \n",
       " 2                                            More data  \n",
       " 3                                                  NaN  \n",
       " 4                                                  NaN  \n",
       " ..                                                 ...  \n",
       " 152  County Agricultural Profile (USDA): «Census of...  \n",
       " 153  State & County QuickFacts (Census Bureau): «Ha...  \n",
       " 154  State & County Narrative Profiles (Census Bure...  \n",
       " 155  County History (Handbook of Texas Online): «Ha...  \n",
       " 156  Texas Almanac (Texas State Historical Associat...  \n",
       " \n",
       " [157 rows x 3 columns]]"
      ]
     },
     "execution_count": 2,
     "metadata": {},
     "output_type": "execute_result"
    }
   ],
   "source": [
    "pd.read_html(\"https://txcip.org/tac/census/profile.php?FIPS=48201\")"
   ]
  },
  {
   "cell_type": "code",
   "execution_count": 7,
   "metadata": {},
   "outputs": [
    {
     "data": {
      "text/plain": [
       "[                                                     0  \\\n",
       " 0                           POPULATION (Census Bureau)   \n",
       " 1         County Population «History» «Group Quarters»   \n",
       " 2                                       Estimate 2020:   \n",
       " 3                                       Estimate 2019:   \n",
       " 4                                       Estimate 2018:   \n",
       " ..                                                 ...   \n",
       " 152  County Agricultural Profile (USDA): «Census of...   \n",
       " 153  State & County QuickFacts (Census Bureau): «Ha...   \n",
       " 154  State & County Narrative Profiles (Census Bure...   \n",
       " 155  County History (Handbook of Texas Online): «Ha...   \n",
       " 156  Texas Almanac (Texas State Historical Associat...   \n",
       " \n",
       "                                                      1  \\\n",
       " 0                           POPULATION (Census Bureau)   \n",
       " 1         County Population «History» «Group Quarters»   \n",
       " 2                                              4738253   \n",
       " 3                                              4709243   \n",
       " 4                                              4676913   \n",
       " ..                                                 ...   \n",
       " 152  County Agricultural Profile (USDA): «Census of...   \n",
       " 153  State & County QuickFacts (Census Bureau): «Ha...   \n",
       " 154  State & County Narrative Profiles (Census Bure...   \n",
       " 155  County History (Handbook of Texas Online): «Ha...   \n",
       " 156  Texas Almanac (Texas State Historical Associat...   \n",
       " \n",
       "                                                      2  \n",
       " 0                           POPULATION (Census Bureau)  \n",
       " 1         County Population «History» «Group Quarters»  \n",
       " 2                                            More data  \n",
       " 3                                                  NaN  \n",
       " 4                                                  NaN  \n",
       " ..                                                 ...  \n",
       " 152  County Agricultural Profile (USDA): «Census of...  \n",
       " 153  State & County QuickFacts (Census Bureau): «Ha...  \n",
       " 154  State & County Narrative Profiles (Census Bure...  \n",
       " 155  County History (Handbook of Texas Online): «Ha...  \n",
       " 156  Texas Almanac (Texas State Historical Associat...  \n",
       " \n",
       " [157 rows x 3 columns]]"
      ]
     },
     "execution_count": 7,
     "metadata": {},
     "output_type": "execute_result"
    }
   ],
   "source": [
    "#houston and surrounding counties\n",
    "#find the info useful to our research and merge into one data frame, including Harris county\n",
    "df_harris = pd.read_html(\"https://txcip.org/tac/census/profile.php?FIPS=48201\")\n",
    "df_harris\n"
   ]
  },
  {
   "cell_type": "code",
   "execution_count": null,
   "metadata": {},
   "outputs": [],
   "source": [
    "df_fortbend = pd.read_html(\"https://txcip.org/tac/census/profile.php?FIPS=48157\")"
   ]
  },
  {
   "cell_type": "code",
   "execution_count": null,
   "metadata": {},
   "outputs": [],
   "source": [
    "df_montegomery = pd.read_html(\"https://txcip.org/tac/census/profile.php?FIPS=48339\")"
   ]
  },
  {
   "cell_type": "code",
   "execution_count": null,
   "metadata": {},
   "outputs": [],
   "source": [
    "df_trinity = pd.read_html(\"https://txcip.org/tac/census/profile.php?FIPS=48455\")"
   ]
  },
  {
   "cell_type": "code",
   "execution_count": null,
   "metadata": {},
   "outputs": [],
   "source": [
    "df_galveston = pd.read_html(\"https://txcip.org/tac/census/profile.php?FIPS=48167\")"
   ]
  },
  {
   "cell_type": "code",
   "execution_count": 11,
   "metadata": {},
   "outputs": [
    {
     "name": "stdout",
     "output_type": "stream",
     "text": [
      "['https://txcip.org/tac/census/profile.php?FIPS=48201', 'https://txcip.org/tac/census/profile.php?FIPS=48157', 'https://txcip.org/tac/census/profile.php?FIPS=48339', 'https://txcip.org/tac/census/profile.php?FIPS=48455', 'https://txcip.org/tac/census/profile.php?FIPS=48167']\n",
      "https://txcip.org/tac/census/profile.php?FIPS=48201\n"
     ]
    },
    {
     "ename": "NameError",
     "evalue": "name 'df_demog' is not defined",
     "output_type": "error",
     "traceback": [
      "\u001b[0;31m---------------------------------------------------------------------------\u001b[0m",
      "\u001b[0;31mNameError\u001b[0m                                 Traceback (most recent call last)",
      "\u001b[0;32m<ipython-input-11-313ff1d7cb88>\u001b[0m in \u001b[0;36m<module>\u001b[0;34m\u001b[0m\n\u001b[1;32m     10\u001b[0m     \u001b[0mprint\u001b[0m\u001b[0;34m(\u001b[0m\u001b[0murl_i\u001b[0m\u001b[0;34m)\u001b[0m\u001b[0;34m\u001b[0m\u001b[0;34m\u001b[0m\u001b[0m\n\u001b[1;32m     11\u001b[0m     \u001b[0mdemog\u001b[0m\u001b[0;34m=\u001b[0m\u001b[0mpd\u001b[0m\u001b[0;34m.\u001b[0m\u001b[0mread_html\u001b[0m\u001b[0;34m(\u001b[0m\u001b[0murl_i\u001b[0m\u001b[0;34m)\u001b[0m\u001b[0;34m\u001b[0m\u001b[0;34m\u001b[0m\u001b[0m\n\u001b[0;32m---> 12\u001b[0;31m     \u001b[0mdf_county_name\u001b[0m\u001b[0;34m=\u001b[0m\u001b[0mdf_demog\u001b[0m\u001b[0;34m[\u001b[0m\u001b[0mdf_demog\u001b[0m\u001b[0;34m[\u001b[0m\u001b[0;36m0\u001b[0m\u001b[0;34m]\u001b[0m\u001b[0;34m.\u001b[0m\u001b[0mstr\u001b[0m\u001b[0;34m.\u001b[0m\u001b[0mcontains\u001b[0m\u001b[0;34m(\u001b[0m\u001b[0;34m'POPULATION OF'\u001b[0m\u001b[0;34m)\u001b[0m\u001b[0;34m]\u001b[0m\u001b[0;34m\u001b[0m\u001b[0;34m\u001b[0m\u001b[0m\n\u001b[0m\u001b[1;32m     13\u001b[0m     \u001b[0mstr1\u001b[0m\u001b[0;34m=\u001b[0m\u001b[0mstr\u001b[0m\u001b[0;34m(\u001b[0m\u001b[0mdf_county_name\u001b[0m\u001b[0;34m[\u001b[0m\u001b[0;36m0\u001b[0m\u001b[0;34m]\u001b[0m\u001b[0;34m)\u001b[0m\u001b[0;34m.\u001b[0m\u001b[0msplit\u001b[0m\u001b[0;34m(\u001b[0m\u001b[0;34m\"POPULATION OF PLACES IN \"\u001b[0m\u001b[0;34m)\u001b[0m\u001b[0;34m[\u001b[0m\u001b[0;36m1\u001b[0m\u001b[0;34m]\u001b[0m\u001b[0;34m\u001b[0m\u001b[0;34m\u001b[0m\u001b[0m\n\u001b[1;32m     14\u001b[0m     \u001b[0mstr2\u001b[0m\u001b[0;34m=\u001b[0m\u001b[0mstr\u001b[0m\u001b[0;34m(\u001b[0m\u001b[0mstr1\u001b[0m\u001b[0;34m)\u001b[0m\u001b[0;34m.\u001b[0m\u001b[0msplit\u001b[0m\u001b[0;34m(\u001b[0m\u001b[0;34m\" - \"\u001b[0m\u001b[0;34m)\u001b[0m\u001b[0;34m\u001b[0m\u001b[0;34m\u001b[0m\u001b[0m\n",
      "\u001b[0;31mNameError\u001b[0m: name 'df_demog' is not defined"
     ]
    }
   ],
   "source": [
    "url_fortbend=\"https://txcip.org/tac/census/profile.php?FIPS=48157\"\n",
    "url_montgomery=\"https://txcip.org/tac/census/profile.php?FIPS=48339\"\n",
    "url_trinity=\"https://txcip.org/tac/census/profile.php?FIPS=48455\"\n",
    "url_galveston=\"https://txcip.org/tac/census/profile.php?FIPS=48167\"\n",
    "url_harris=\"https://txcip.org/tac/census/profile.php?FIPS=48201\"\n",
    "\n",
    "url=[url_harris, url_fortbend, url_montgomery, url_trinity, url_galveston]\n",
    "# print(url)\n",
    "\n",
    "df_income_smry=pd.DataFrame([])\n",
    "for url_i in url:\n",
    "    print(url_i)\n",
    "    demog=pd.read_html(url_i)\n",
    "    df_county_name=df_demog[df_demog[0].str.contains('POPULATION OF')]\n",
    "    str1=str(df_county_name[0]).split(\"POPULATION OF PLACES IN \")[1]\n",
    "    str2=str(str1).split(\" - \")\n",
    "    df_demog=demog[0]\n",
    "    df_demog['County']=str2[0]\n",
    "    df_income=df_demog[df_demog[0].str.contains('Income - 2019')]\n",
    "    df_income_smry_temp=pd.DataFrame(df_income.pivot(index='County', columns=[0], values=[1]))\n",
    "    df_income_smry=pd.concat([df_income_smry,df_income_smry_temp[1]])\n",
    "df_income_smry"
   ]
  },
  {
   "cell_type": "code",
   "execution_count": null,
   "metadata": {},
   "outputs": [],
   "source": []
  },
  {
   "cell_type": "code",
   "execution_count": null,
   "metadata": {},
   "outputs": [],
   "source": []
  },
  {
   "cell_type": "code",
   "execution_count": null,
   "metadata": {},
   "outputs": [],
   "source": []
  },
  {
   "cell_type": "code",
   "execution_count": null,
   "metadata": {},
   "outputs": [],
   "source": []
  }
 ],
 "metadata": {
  "kernelspec": {
   "display_name": "Python 3",
   "language": "python",
   "name": "python3"
  },
  "language_info": {
   "codemirror_mode": {
    "name": "ipython",
    "version": 3
   },
   "file_extension": ".py",
   "mimetype": "text/x-python",
   "name": "python",
   "nbconvert_exporter": "python",
   "pygments_lexer": "ipython3",
   "version": "3.8.5"
  }
 },
 "nbformat": 4,
 "nbformat_minor": 4
}
